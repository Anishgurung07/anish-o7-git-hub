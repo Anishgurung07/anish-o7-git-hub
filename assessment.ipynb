{
 "cells": [
  {
   "cell_type": "markdown",
   "id": "4f6a9fd6",
   "metadata": {},
   "source": [
    "Assessment 3: Program to perform Linear Search.\n",
    "Linear search is a simple search algorithm that checks every element in the list sequentially until it finds the target value.\n"
   ]
  },
  {
   "cell_type": "code",
   "execution_count": 37,
   "id": "0480cdf9",
   "metadata": {},
   "outputs": [
    {
     "name": "stdout",
     "output_type": "stream",
     "text": [
      "Target not found\n"
     ]
    }
   ],
   "source": [
    "def linear_search(namsha, target):\n",
    "    for i, num in enumerate(namsha):\n",
    "        if num == target:\n",
    "            return i #Return the index of the target if found\n",
    "    return -1 #Return =1 if the target is not found\n",
    "\n",
    "#Example usage\n",
    "numbers = [5, 2, 9, 12, 3]\n",
    "target = 10\n",
    "result = linear_search(numbers, target)\n",
    "\n",
    "if result != -1:\n",
    "    print (f\"Target found at index {result}\")\n",
    "else:\n",
    "    print (\"Target not found\")\n"
   ]
  },
  {
   "cell_type": "markdown",
   "id": "2996134e",
   "metadata": {},
   "source": [
    "Assessment 1: Temperature Converter (5 Marks)\n",
    "Problem Statement:\n",
    "Write a Python function called convert_temperature(temp, from_scale, to_scale) that takes a temperature, a scale to convert from, and a scale to convert to as input. The scales can be \"Celsius\", \"Fahrenheit\", or \"Kelvin\". The function should convert the temperature to the requested scale.\n",
    "Example Inputs and Outputs:\n",
    "•\tconvert_temperature(0, 'Celsius', 'Fahrenheit') should return 32\n",
    "•\tconvert_temperature(32, 'Fahrenheit', 'Celsius') should return 0\n",
    "•\tconvert_temperature(0, 'Celsius', 'Kelvin') should return 273.15\n",
    "\n"
   ]
  },
  {
   "cell_type": "code",
   "execution_count": 33,
   "id": "ad461993",
   "metadata": {},
   "outputs": [
    {
     "name": "stdout",
     "output_type": "stream",
     "text": [
      "32.0 Fahrenheit\n",
      "0.0 Celsius\n",
      "273.15 Kelvin\n"
     ]
    }
   ],
   "source": [
    "def con(temp, from_scale, to_scale):\n",
    "    if from_scale == 'Celsius' and to_scale == 'Fahrenheit':\n",
    "        return (temp * 9/5) + 32\n",
    "    elif from_scale == 'Fahrenheit' and to_scale == 'Celsius':\n",
    "        return (temp - 32) * 5/9\n",
    "    elif from_scale == 'Celsius' and to_scale == 'Kelvin':\n",
    "        return temp + 273.15\n",
    "    elif from_scale == 'Kelvin' and to_scale == 'Celsius':\n",
    "        return temp - 273.15\n",
    "    elif from_scale == 'Fahrenheit' and to_scale == 'Kelvin':\n",
    "        return (temp + 459.67) * 5/9\n",
    "    elif from_scale == 'Kelvin' and to_scale == 'Fahrenheit':\n",
    "        return (temp * 9/5) - 459.67\n",
    "    else:\n",
    "        return temp\n",
    "    \n",
    "print(con(0, 'Celsius', 'Fahrenheit'),\"Fahrenheit\")\n",
    "print(con(32, 'Fahrenheit', 'Celsius'),'Celsius') \n",
    "print(con(0, 'Celsius', 'Kelvin'),'Kelvin') \n"
   ]
  },
  {
   "cell_type": "markdown",
   "id": "45d25179",
   "metadata": {},
   "source": [
    "Assessment 2: Create python program using modules , collections, OS, date-time, math, and random operations also note the usecase of each modules"
   ]
  },
  {
   "cell_type": "code",
   "execution_count": 35,
   "id": "c6944c24",
   "metadata": {},
   "outputs": [
    {
     "name": "stdout",
     "output_type": "stream",
     "text": [
      "Counter({'b': 3, 'a': 2, 'c': 1})\n",
      "['DirEntry', 'F_OK', 'GenericAlias', 'Mapping', 'MutableMapping', 'O_APPEND', 'O_BINARY', 'O_CREAT', 'O_EXCL', 'O_NOINHERIT', 'O_RANDOM', 'O_RDONLY', 'O_RDWR', 'O_SEQUENTIAL', 'O_SHORT_LIVED', 'O_TEMPORARY', 'O_TEXT', 'O_TRUNC', 'O_WRONLY', 'P_DETACH', 'P_NOWAIT', 'P_NOWAITO', 'P_OVERLAY', 'P_WAIT', 'PathLike', 'R_OK', 'SEEK_CUR', 'SEEK_END', 'SEEK_SET', 'TMP_MAX', 'W_OK', 'X_OK', '_AddedDllDirectory', '_Environ', '__all__', '__builtins__', '__cached__', '__doc__', '__file__', '__loader__', '__name__', '__package__', '__spec__', '_check_methods', '_execvpe', '_exists', '_exit', '_fspath', '_get_exports_list', '_walk', '_wrap_close', 'abc', 'abort', 'access', 'add_dll_directory', 'altsep', 'chdir', 'chmod', 'close', 'closerange', 'cpu_count', 'curdir', 'defpath', 'device_encoding', 'devnull', 'dup', 'dup2', 'environ', 'error', 'execl', 'execle', 'execlp', 'execlpe', 'execv', 'execve', 'execvp', 'execvpe', 'extsep', 'fdopen', 'fsdecode', 'fsencode', 'fspath', 'fstat', 'fsync', 'ftruncate', 'get_exec_path', 'get_handle_inheritable', 'get_inheritable', 'get_terminal_size', 'getcwd', 'getcwdb', 'getenv', 'getlogin', 'getpid', 'getppid', 'isatty', 'kill', 'linesep', 'link', 'listdir', 'lseek', 'lstat', 'makedirs', 'mkdir', 'name', 'open', 'pardir', 'path', 'pathsep', 'pipe', 'popen', 'putenv', 'read', 'readlink', 'remove', 'removedirs', 'rename', 'renames', 'replace', 'rmdir', 'scandir', 'sep', 'set_handle_inheritable', 'set_inheritable', 'spawnl', 'spawnle', 'spawnv', 'spawnve', 'st', 'startfile', 'stat', 'stat_result', 'statvfs_result', 'strerror', 'supports_bytes_environ', 'supports_dir_fd', 'supports_effective_ids', 'supports_fd', 'supports_follow_symlinks', 'symlink', 'sys', 'system', 'terminal_size', 'times', 'times_result', 'truncate', 'umask', 'uname_result', 'unlink', 'unsetenv', 'urandom', 'utime', 'waitpid', 'waitstatus_to_exitcode', 'walk', 'write']\n",
      "C:\\Users\\hp\\Desktop\\rahul python\n",
      "2023-07-04 15:15:24.289991\n",
      "2023-07-04 15:15:24\n",
      "3.141592653589793\n",
      "4.0\n",
      "8\n",
      "milan\n"
     ]
    }
   ],
   "source": [
    "import collections\n",
    "import os\n",
    "import datetime\n",
    "import math\n",
    "import random\n",
    "\n",
    "\n",
    "print(collections.Counter(['a', 'b', 'c', 'a', 'b', 'b']))\n",
    "print(dir(os))\n",
    "print(os.getcwd())\n",
    "print(datetime.datetime.now())\n",
    "print(datetime.datetime.now().strftime(\"%Y-%m-%d %H:%M:%S\"))\n",
    "print(math.pi)\n",
    "print(math.sqrt(16))\n",
    "print(random.randint(0, 10))\n",
    "print(random.choice(['rahul', 'milan', 'namsha']))"
   ]
  },
  {
   "cell_type": "code",
   "execution_count": null,
   "id": "6ac0a8ec",
   "metadata": {},
   "outputs": [],
   "source": []
  }
 ],
 "metadata": {
  "kernelspec": {
   "display_name": "Python 3 (ipykernel)",
   "language": "python",
   "name": "python3"
  },
  "language_info": {
   "codemirror_mode": {
    "name": "ipython",
    "version": 3
   },
   "file_extension": ".py",
   "mimetype": "text/x-python",
   "name": "python",
   "nbconvert_exporter": "python",
   "pygments_lexer": "ipython3",
   "version": "3.10.9"
  }
 },
 "nbformat": 4,
 "nbformat_minor": 5
}
