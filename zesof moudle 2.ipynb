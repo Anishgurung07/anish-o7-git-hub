{
 "cells": [
  {
   "cell_type": "code",
   "execution_count": 11,
   "id": "a8508443",
   "metadata": {},
   "outputs": [],
   "source": [
    "elements = [2,3,7,8,6]"
   ]
  },
  {
   "cell_type": "code",
   "execution_count": 12,
   "id": "082e244f",
   "metadata": {},
   "outputs": [
    {
     "name": "stdout",
     "output_type": "stream",
     "text": [
      "2\n",
      "3\n",
      "7\n",
      "8\n",
      "6\n"
     ]
    }
   ],
   "source": [
    "for i in elements:\n",
    "    print(i)"
   ]
  },
  {
   "cell_type": "code",
   "execution_count": null,
   "id": "38b73c9c",
   "metadata": {},
   "outputs": [],
   "source": []
  }
 ],
 "metadata": {
  "kernelspec": {
   "display_name": "Python 3 (ipykernel)",
   "language": "python",
   "name": "python3"
  },
  "language_info": {
   "codemirror_mode": {
    "name": "ipython",
    "version": 3
   },
   "file_extension": ".py",
   "mimetype": "text/x-python",
   "name": "python",
   "nbconvert_exporter": "python",
   "pygments_lexer": "ipython3",
   "version": "3.10.9"
  }
 },
 "nbformat": 4,
 "nbformat_minor": 5
}
