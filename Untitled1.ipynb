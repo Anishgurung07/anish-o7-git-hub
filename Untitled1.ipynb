{
 "cells": [
  {
   "cell_type": "code",
   "execution_count": 1,
   "id": "4f78d92a",
   "metadata": {},
   "outputs": [
    {
     "name": "stdout",
     "output_type": "stream",
     "text": [
      "Enter the first number5\n",
      "Entetr the second number2\n",
      "The result is 10.0\n"
     ]
    }
   ],
   "source": [
    "a =  float (input(\"Enter the first number\"))\n",
    "b = float (input(\"Entetr the second number\"))\n",
    "result = a*b\n",
    "print('The result is',result)"
   ]
  },
  {
   "cell_type": "code",
   "execution_count": null,
   "id": "cc2c4d3b",
   "metadata": {},
   "outputs": [],
   "source": []
  }
 ],
 "metadata": {
  "kernelspec": {
   "display_name": "Python 3 (ipykernel)",
   "language": "python",
   "name": "python3"
  },
  "language_info": {
   "codemirror_mode": {
    "name": "ipython",
    "version": 3
   },
   "file_extension": ".py",
   "mimetype": "text/x-python",
   "name": "python",
   "nbconvert_exporter": "python",
   "pygments_lexer": "ipython3",
   "version": "3.10.9"
  }
 },
 "nbformat": 4,
 "nbformat_minor": 5
}
