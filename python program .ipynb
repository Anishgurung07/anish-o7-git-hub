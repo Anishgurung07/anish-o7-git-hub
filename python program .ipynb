{
 "cells": [
  {
   "cell_type": "code",
   "execution_count": 1,
   "id": "84ffab80",
   "metadata": {},
   "outputs": [],
   "source": [
    "#python program that read a text file and write its content to a new file but in a reverse order "
   ]
  },
  {
   "cell_type": "code",
   "execution_count": 7,
   "id": "49cb5352",
   "metadata": {},
   "outputs": [],
   "source": [
    "file = open('input.txt','w')\n",
    "file.write('Rahul Gurung')\n",
    "file.close()"
   ]
  },
  {
   "cell_type": "code",
   "execution_count": 8,
   "id": "5f47093b",
   "metadata": {},
   "outputs": [],
   "source": [
    "file = open('input.txt','r')\n",
    "contents= file.read()"
   ]
  },
  {
   "cell_type": "code",
   "execution_count": 9,
   "id": "8930f0ed",
   "metadata": {},
   "outputs": [
    {
     "name": "stdout",
     "output_type": "stream",
     "text": [
      "gnuruG luhaR\n"
     ]
    }
   ],
   "source": [
    "print(contents[::-1])\n",
    "file.close()"
   ]
  },
  {
   "cell_type": "code",
   "execution_count": 10,
   "id": "2bbdd0bc",
   "metadata": {},
   "outputs": [],
   "source": [
    "#python program to make a circle"
   ]
  },
  {
   "cell_type": "code",
   "execution_count": 3,
   "id": "15f8ab05",
   "metadata": {},
   "outputs": [],
   "source": [
    "#circle drawing\n",
    "\n",
    "import turtle\n",
    "#initializing the turtle\n",
    "t= turtle.Turtle()\n",
    "\n",
    "r = 50\n",
    "t.circle(r)"
   ]
  },
  {
   "cell_type": "code",
   "execution_count": null,
   "id": "c6542570",
   "metadata": {},
   "outputs": [],
   "source": [
    "#python program to make a circle using OOP"
   ]
  },
  {
   "cell_type": "code",
   "execution_count": 7,
   "id": "87000dad",
   "metadata": {},
   "outputs": [
    {
     "name": "stdout",
     "output_type": "stream",
     "text": [
      "Enter the radius of the circle: 3\n",
      "Area of the circle is 28.27\n",
      "Circumference of the circle is 18.85\n"
     ]
    }
   ],
   "source": [
    "import math\n",
    "\n",
    "class Circle:\n",
    "    def __init__(self, radius):\n",
    "        self.radius = radius\n",
    "\n",
    "    def area(self):\n",
    "        return math.pi * self.radius ** 2\n",
    "\n",
    "    def circumference(self):\n",
    "        return 2 * math.pi * self.radius\n",
    "\n",
    "radius = float(input(\"Enter the radius of the circle: \"))\n",
    "circle = Circle(radius)\n",
    "print(f\"Area of the circle is {circle.area():.2f}\")\n",
    "print(f\"Circumference of the circle is {circle.circumference():.2f}\")\n"
   ]
  },
  {
   "cell_type": "code",
   "execution_count": null,
   "id": "43eff98f",
   "metadata": {},
   "outputs": [],
   "source": []
  }
 ],
 "metadata": {
  "kernelspec": {
   "display_name": "Python 3 (ipykernel)",
   "language": "python",
   "name": "python3"
  },
  "language_info": {
   "codemirror_mode": {
    "name": "ipython",
    "version": 3
   },
   "file_extension": ".py",
   "mimetype": "text/x-python",
   "name": "python",
   "nbconvert_exporter": "python",
   "pygments_lexer": "ipython3",
   "version": "3.10.9"
  }
 },
 "nbformat": 4,
 "nbformat_minor": 5
}
