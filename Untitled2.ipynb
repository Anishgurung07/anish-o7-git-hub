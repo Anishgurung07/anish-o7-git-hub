{
 "cells": [
  {
   "cell_type": "code",
   "execution_count": 1,
   "id": "8c2c007f",
   "metadata": {},
   "outputs": [],
   "source": [
    "\n",
    "\n",
    "name = 'Anthony'"
   ]
  },
  {
   "cell_type": "code",
   "execution_count": 5,
   "id": "8f2fe5ce",
   "metadata": {},
   "outputs": [
    {
     "data": {
      "text/plain": [
       "'Anthony'"
      ]
     },
     "execution_count": 5,
     "metadata": {},
     "output_type": "execute_result"
    }
   ],
   "source": [
    "\n",
    "name"
   ]
  },
  {
   "cell_type": "code",
   "execution_count": 9,
   "id": "22534229",
   "metadata": {},
   "outputs": [],
   "source": [
    " x='helloworld'"
   ]
  },
  {
   "cell_type": "code",
   "execution_count": 12,
   "id": "6d862a84",
   "metadata": {},
   "outputs": [
    {
     "data": {
      "text/plain": [
       "'HELLOWORLD'"
      ]
     },
     "execution_count": 12,
     "metadata": {},
     "output_type": "execute_result"
    }
   ],
   "source": [
    "x.upper()"
   ]
  },
  {
   "cell_type": "code",
   "execution_count": 13,
   "id": "7b11239e",
   "metadata": {},
   "outputs": [
    {
     "data": {
      "text/plain": [
       "['hell', 'w', 'rld']"
      ]
     },
     "execution_count": 13,
     "metadata": {},
     "output_type": "execute_result"
    }
   ],
   "source": [
    "x.split('o')"
   ]
  },
  {
   "cell_type": "code",
   "execution_count": 14,
   "id": "3aab03f8",
   "metadata": {},
   "outputs": [
    {
     "ename": "SyntaxError",
     "evalue": "invalid syntax. Perhaps you forgot a comma? (1655782957.py, line 2)",
     "output_type": "error",
     "traceback": [
      "\u001b[1;36m  Cell \u001b[1;32mIn[14], line 2\u001b[1;36m\u001b[0m\n\u001b[1;33m    print(hello my name is my_name)\u001b[0m\n\u001b[1;37m          ^\u001b[0m\n\u001b[1;31mSyntaxError\u001b[0m\u001b[1;31m:\u001b[0m invalid syntax. Perhaps you forgot a comma?\n"
     ]
    }
   ],
   "source": [
    "my_name = 'kiran'\n",
    "print(hello my name is my_name)"
   ]
  },
  {
   "cell_type": "code",
   "execution_count": 17,
   "id": "bc27e7b2",
   "metadata": {},
   "outputs": [
    {
     "name": "stdout",
     "output_type": "stream",
     "text": [
      "hello my name isAnish Gurung\n"
     ]
    }
   ],
   "source": [
    "my_name = 'Anish Gurung'\n",
    "print('hello my name is'+ my_name)"
   ]
  },
  {
   "cell_type": "code",
   "execution_count": 18,
   "id": "c34d2314",
   "metadata": {},
   "outputs": [],
   "source": [
    "#.Formayt method\n"
   ]
  },
  {
   "cell_type": "code",
   "execution_count": 9,
   "id": "72c92dd1",
   "metadata": {},
   "outputs": [],
   "source": [
    "#'string here{} {} {} '.format(something1, something2, something3)"
   ]
  },
  {
   "cell_type": "code",
   "execution_count": 1,
   "id": "2c18b9dd",
   "metadata": {},
   "outputs": [
    {
     "name": "stdout",
     "output_type": "stream",
     "text": [
      "my self Anish Gurung\n"
     ]
    }
   ],
   "source": [
    "print('my self Anish Gurung')"
   ]
  },
  {
   "cell_type": "code",
   "execution_count": 3,
   "id": "d7c89606",
   "metadata": {},
   "outputs": [],
   "source": [
    "#Formatted strings literals"
   ]
  },
  {
   "cell_type": "code",
   "execution_count": 5,
   "id": "6cd37c37",
   "metadata": {},
   "outputs": [],
   "source": [
    "name = 'Anish Gurung'"
   ]
  },
  {
   "cell_type": "code",
   "execution_count": 6,
   "id": "154f399c",
   "metadata": {},
   "outputs": [
    {
     "name": "stdout",
     "output_type": "stream",
     "text": [
      "My name is Anish Gurung\n"
     ]
    }
   ],
   "source": [
    "print(f'My name is {name}')"
   ]
  },
  {
   "cell_type": "code",
   "execution_count": 7,
   "id": "34a5d22c",
   "metadata": {},
   "outputs": [
    {
     "name": "stdout",
     "output_type": "stream",
     "text": [
      "His name is Anish Gurung\n"
     ]
    }
   ],
   "source": [
    "print('His name is {}'.format(name))"
   ]
  },
  {
   "cell_type": "code",
   "execution_count": 8,
   "id": "4f29fbb9",
   "metadata": {},
   "outputs": [
    {
     "name": "stdout",
     "output_type": "stream",
     "text": [
      "Anish Gurungis 18 years old\n"
     ]
    }
   ],
   "source": [
    "print(f'{name}is 18 years old')"
   ]
  },
  {
   "cell_type": "code",
   "execution_count": 10,
   "id": "d46b9a30",
   "metadata": {},
   "outputs": [],
   "source": [
    "#.Formayt method\n"
   ]
  },
  {
   "cell_type": "code",
   "execution_count": 11,
   "id": "4767e77d",
   "metadata": {},
   "outputs": [],
   "source": [
    "#'string here{} {} {} '.format(something1, something2, something3)"
   ]
  },
  {
   "cell_type": "code",
   "execution_count": 12,
   "id": "c261360c",
   "metadata": {},
   "outputs": [
    {
     "name": "stdout",
     "output_type": "stream",
     "text": [
      "I am a student of Medhavi Skills University\n"
     ]
    }
   ],
   "source": [
    "print('I am a student of {}'.format('Medhavi Skills University'))"
   ]
  },
  {
   "cell_type": "code",
   "execution_count": 13,
   "id": "846fe47d",
   "metadata": {},
   "outputs": [
    {
     "name": "stdout",
     "output_type": "stream",
     "text": [
      "The quick brown fox\n"
     ]
    }
   ],
   "source": [
    "print('The {q} {b} {f}'.format(b='brown', f='fox',q='quick'))"
   ]
  },
  {
   "cell_type": "code",
   "execution_count": 14,
   "id": "74715216",
   "metadata": {},
   "outputs": [
    {
     "name": "stdout",
     "output_type": "stream",
     "text": [
      "This is a string INSERTED\n"
     ]
    }
   ],
   "source": [
    "print('This is a string {}'.format('INSERTED'))"
   ]
  },
  {
   "cell_type": "code",
   "execution_count": 18,
   "id": "6ad129f4",
   "metadata": {},
   "outputs": [
    {
     "name": "stdout",
     "output_type": "stream",
     "text": [
      "hello I am a pyhton programmer\n"
     ]
    }
   ],
   "source": [
    "s1=\"hello\"\n",
    "s2=\" I am a \"\n",
    "s3=\"pyhton programmer\"\n",
    "s4=s1+s2+s3\n",
    "print(s4)\n"
   ]
  },
  {
   "cell_type": "code",
   "execution_count": 25,
   "id": "06d27842",
   "metadata": {},
   "outputs": [
    {
     "name": "stdout",
     "output_type": "stream",
     "text": [
      "hello i am a  python programmer \n"
     ]
    }
   ],
   "source": [
    "print('{s1} {s2} {s3} '.format(s1='hello', s2='i am a ',s3='python programmer',))"
   ]
  },
  {
   "cell_type": "code",
   "execution_count": 1,
   "id": "97508c5b",
   "metadata": {},
   "outputs": [
    {
     "name": "stdout",
     "output_type": "stream",
     "text": [
      "I love Programming\n"
     ]
    }
   ],
   "source": [
    "my_python=\"I love Programming\"\n",
    "print(my_python)"
   ]
  },
  {
   "cell_type": "code",
   "execution_count": 5,
   "id": "e8ff7eba",
   "metadata": {},
   "outputs": [],
   "source": [
    "#float formatting {value:width.precision f}"
   ]
  },
  {
   "cell_type": "code",
   "execution_count": 3,
   "id": "ae8c49ca",
   "metadata": {},
   "outputs": [],
   "source": [
    "py=3.1415926535"
   ]
  },
  {
   "cell_type": "code",
   "execution_count": 4,
   "id": "b6c50602",
   "metadata": {},
   "outputs": [
    {
     "data": {
      "text/plain": [
       "3.1415926535"
      ]
     },
     "execution_count": 4,
     "metadata": {},
     "output_type": "execute_result"
    }
   ],
   "source": [
    "py"
   ]
  },
  {
   "cell_type": "code",
   "execution_count": 8,
   "id": "64a6cc2b",
   "metadata": {},
   "outputs": [
    {
     "name": "stdout",
     "output_type": "stream",
     "text": [
      "The result is 3.1416\n"
     ]
    }
   ],
   "source": [
    "print('The result is {r:1.4f}'.format(r=py))"
   ]
  },
  {
   "cell_type": "code",
   "execution_count": null,
   "id": "badde1b3",
   "metadata": {},
   "outputs": [],
   "source": []
  }
 ],
 "metadata": {
  "kernelspec": {
   "display_name": "Python 3 (ipykernel)",
   "language": "python",
   "name": "python3"
  },
  "language_info": {
   "codemirror_mode": {
    "name": "ipython",
    "version": 3
   },
   "file_extension": ".py",
   "mimetype": "text/x-python",
   "name": "python",
   "nbconvert_exporter": "python",
   "pygments_lexer": "ipython3",
   "version": "3.10.9"
  }
 },
 "nbformat": 4,
 "nbformat_minor": 5
}
