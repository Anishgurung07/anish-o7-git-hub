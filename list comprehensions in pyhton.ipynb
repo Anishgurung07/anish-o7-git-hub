{
 "cells": [
  {
   "cell_type": "code",
   "execution_count": 1,
   "id": "5f814ef1",
   "metadata": {},
   "outputs": [],
   "source": [
    "#List comprehension in python"
   ]
  },
  {
   "cell_type": "code",
   "execution_count": 5,
   "id": "a89fce9c",
   "metadata": {},
   "outputs": [],
   "source": [
    "mystrings = 'hello'\n",
    "mylist = []\n",
    "for letter in mystrings:\n",
    "    mylist.append(letter)"
   ]
  },
  {
   "cell_type": "code",
   "execution_count": 6,
   "id": "0c700ab3",
   "metadata": {},
   "outputs": [
    {
     "data": {
      "text/plain": [
       "['h', 'e', 'l', 'l', 'o']"
      ]
     },
     "execution_count": 6,
     "metadata": {},
     "output_type": "execute_result"
    }
   ],
   "source": [
    "mylist"
   ]
  },
  {
   "cell_type": "code",
   "execution_count": 10,
   "id": "82217613",
   "metadata": {},
   "outputs": [],
   "source": [
    "mystrings = 'hello'\n",
    "mylist = [letter for letter in mystrings]"
   ]
  },
  {
   "cell_type": "code",
   "execution_count": 11,
   "id": "af4db306",
   "metadata": {},
   "outputs": [
    {
     "data": {
      "text/plain": [
       "['h', 'e', 'l', 'l', 'o']"
      ]
     },
     "execution_count": 11,
     "metadata": {},
     "output_type": "execute_result"
    }
   ],
   "source": [
    "mylist"
   ]
  },
  {
   "cell_type": "code",
   "execution_count": 12,
   "id": "81a6c2c3",
   "metadata": {},
   "outputs": [],
   "source": [
    "mylists = [x for x in 'april and may']"
   ]
  },
  {
   "cell_type": "code",
   "execution_count": 14,
   "id": "faf5b0d8",
   "metadata": {},
   "outputs": [
    {
     "data": {
      "text/plain": [
       "['a', 'p', 'r', 'i', 'l', ' ', 'a', 'n', 'd', ' ', 'm', 'a', 'y']"
      ]
     },
     "execution_count": 14,
     "metadata": {},
     "output_type": "execute_result"
    }
   ],
   "source": [
    "mylists"
   ]
  },
  {
   "cell_type": "code",
   "execution_count": 15,
   "id": "8ceb3a2d",
   "metadata": {},
   "outputs": [],
   "source": [
    "mynum = [num**2 for num in range(0,11)]"
   ]
  },
  {
   "cell_type": "code",
   "execution_count": 16,
   "id": "67388254",
   "metadata": {},
   "outputs": [
    {
     "data": {
      "text/plain": [
       "[0, 1, 4, 9, 16, 25, 36, 49, 64, 81, 100]"
      ]
     },
     "execution_count": 16,
     "metadata": {},
     "output_type": "execute_result"
    }
   ],
   "source": [
    "mynum"
   ]
  },
  {
   "cell_type": "code",
   "execution_count": 21,
   "id": "4e3d2f4c",
   "metadata": {},
   "outputs": [],
   "source": [
    "myeven = [x for x in range(0,11)if x%2 == 0]"
   ]
  },
  {
   "cell_type": "code",
   "execution_count": 22,
   "id": "a8fce590",
   "metadata": {},
   "outputs": [
    {
     "data": {
      "text/plain": [
       "[0, 2, 4, 6, 8, 10]"
      ]
     },
     "execution_count": 22,
     "metadata": {},
     "output_type": "execute_result"
    }
   ],
   "source": [
    "myeven"
   ]
  },
  {
   "cell_type": "code",
   "execution_count": 23,
   "id": "c93086e0",
   "metadata": {},
   "outputs": [],
   "source": [
    "celcius = [0,10,20,30,40,50,34.5]\n",
    "fahrenheit = [((9/5)*temp+32) for temp in celcius]"
   ]
  },
  {
   "cell_type": "code",
   "execution_count": 24,
   "id": "abe2d56a",
   "metadata": {},
   "outputs": [
    {
     "data": {
      "text/plain": [
       "[32.0, 50.0, 68.0, 86.0, 104.0, 122.0, 94.1]"
      ]
     },
     "execution_count": 24,
     "metadata": {},
     "output_type": "execute_result"
    }
   ],
   "source": [
    "fahrenheit"
   ]
  },
  {
   "cell_type": "code",
   "execution_count": 27,
   "id": "5f965a28",
   "metadata": {},
   "outputs": [
    {
     "name": "stdout",
     "output_type": "stream",
     "text": [
      "[32.0, 50.0, 68.0, 86.0, 104.0, 122.0, 94.1]\n"
     ]
    }
   ],
   "source": [
    "elcius = [0,10,20,30,40,50,34.5]\n",
    "fahrenheit = []\n",
    "for temp in celcius:\n",
    "    fahrenheit.append((9/5)*temp+32)\n",
    "print(fahrenheit)"
   ]
  },
  {
   "cell_type": "code",
   "execution_count": 31,
   "id": "fcf20818",
   "metadata": {},
   "outputs": [],
   "source": [
    "results = [x if x%2 == 0 else 'COD' for x in range(0,10)]"
   ]
  },
  {
   "cell_type": "code",
   "execution_count": 32,
   "id": "1d04bea6",
   "metadata": {},
   "outputs": [
    {
     "data": {
      "text/plain": [
       "[0, 'COD', 2, 'COD', 4, 'COD', 6, 'COD', 8, 'COD']"
      ]
     },
     "execution_count": 32,
     "metadata": {},
     "output_type": "execute_result"
    }
   ],
   "source": [
    "results"
   ]
  },
  {
   "cell_type": "code",
   "execution_count": 34,
   "id": "7f1ed609",
   "metadata": {},
   "outputs": [],
   "source": [
    "#nested loop"
   ]
  },
  {
   "cell_type": "code",
   "execution_count": 35,
   "id": "68f04568",
   "metadata": {},
   "outputs": [],
   "source": [
    "mylist=[]\n",
    "for x in [2,4,6]:\n",
    "    for y in [6,7,8]:\n",
    "        mylist.append(x*y)\n"
   ]
  },
  {
   "cell_type": "code",
   "execution_count": 37,
   "id": "d535286e",
   "metadata": {},
   "outputs": [
    {
     "data": {
      "text/plain": [
       "[12, 14, 16, 24, 28, 32, 36, 42, 48]"
      ]
     },
     "execution_count": 37,
     "metadata": {},
     "output_type": "execute_result"
    }
   ],
   "source": [
    "mylist"
   ]
  },
  {
   "cell_type": "code",
   "execution_count": 38,
   "id": "706506d3",
   "metadata": {},
   "outputs": [],
   "source": [
    "mynest = [x*y for x in [2,4,5] for y in [4,5,6]]"
   ]
  },
  {
   "cell_type": "code",
   "execution_count": 40,
   "id": "c0c86f72",
   "metadata": {},
   "outputs": [
    {
     "data": {
      "text/plain": [
       "[8, 10, 12, 16, 20, 24, 20, 25, 30]"
      ]
     },
     "execution_count": 40,
     "metadata": {},
     "output_type": "execute_result"
    }
   ],
   "source": [
    "mynest"
   ]
  },
  {
   "cell_type": "code",
   "execution_count": null,
   "id": "793e63ca",
   "metadata": {},
   "outputs": [],
   "source": []
  }
 ],
 "metadata": {
  "kernelspec": {
   "display_name": "Python 3 (ipykernel)",
   "language": "python",
   "name": "python3"
  },
  "language_info": {
   "codemirror_mode": {
    "name": "ipython",
    "version": 3
   },
   "file_extension": ".py",
   "mimetype": "text/x-python",
   "name": "python",
   "nbconvert_exporter": "python",
   "pygments_lexer": "ipython3",
   "version": "3.10.9"
  }
 },
 "nbformat": 4,
 "nbformat_minor": 5
}
