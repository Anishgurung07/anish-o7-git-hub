{
 "cells": [
  {
   "cell_type": "code",
   "execution_count": 1,
   "id": "c769c026",
   "metadata": {},
   "outputs": [],
   "source": [
    "#break,continue,pass"
   ]
  },
  {
   "cell_type": "code",
   "execution_count": 2,
   "id": "d90d09ec",
   "metadata": {},
   "outputs": [],
   "source": [
    "#break:breaks out of the closest enclosing loop\n",
    "#continue:goes to the top of the closest enclosing loop\n",
    "#pass:does nothing at all"
   ]
  },
  {
   "cell_type": "code",
   "execution_count": 3,
   "id": "c2911ff3",
   "metadata": {},
   "outputs": [
    {
     "name": "stdout",
     "output_type": "stream",
     "text": [
      "the end of my script\n"
     ]
    }
   ],
   "source": [
    "x = [1,2,3]\n",
    "for item in x:\n",
    "    #gsdgsd\n",
    "    pass\n",
    "print('the end of my script')"
   ]
  },
  {
   "cell_type": "code",
   "execution_count": 4,
   "id": "b593376d",
   "metadata": {},
   "outputs": [
    {
     "name": "stdout",
     "output_type": "stream",
     "text": [
      "D\n",
      "n\n",
      "n\n",
      "y\n"
     ]
    }
   ],
   "source": [
    "mystring ='Danny'\n",
    "for letter in mystring:\n",
    "    if letter =='a':\n",
    "        continue\n",
    "    print(letter)"
   ]
  },
  {
   "cell_type": "code",
   "execution_count": 9,
   "id": "02c674d1",
   "metadata": {},
   "outputs": [
    {
     "name": "stdout",
     "output_type": "stream",
     "text": [
      "A\n",
      "n\n"
     ]
    }
   ],
   "source": [
    "mystring ='Anish'\n",
    "for letter in mystring:\n",
    "    if letter == 'i':\n",
    "     break\n",
    "    print(letter)"
   ]
  },
  {
   "cell_type": "code",
   "execution_count": 10,
   "id": "90228d5c",
   "metadata": {},
   "outputs": [
    {
     "name": "stdout",
     "output_type": "stream",
     "text": [
      "0\n",
      "1\n"
     ]
    }
   ],
   "source": [
    "x = 0\n",
    "while x<5:\n",
    "    if x == 2:\n",
    "        break\n",
    "    print(x)\n",
    "    x += 1"
   ]
  },
  {
   "cell_type": "code",
   "execution_count": 12,
   "id": "118727b9",
   "metadata": {},
   "outputs": [],
   "source": [
    "#While loops in Python"
   ]
  },
  {
   "cell_type": "code",
   "execution_count": 13,
   "id": "7df62d91",
   "metadata": {},
   "outputs": [],
   "source": [
    "#while boolean_condition:\n",
    "    #do something\n",
    "#else:\n",
    "    #do something else"
   ]
  },
  {
   "cell_type": "code",
   "execution_count": 14,
   "id": "10287ee9",
   "metadata": {},
   "outputs": [
    {
     "name": "stdout",
     "output_type": "stream",
     "text": [
      "The current value of x is 0\n",
      "The current value of x is 1\n",
      "The current value of x is 2\n",
      "The current value of x is 3\n",
      "The current value of x is 4\n",
      "x is not less than 5\n"
     ]
    }
   ],
   "source": [
    "x=0\n",
    "while x<5:\n",
    "    print(f'The current value of x is {x}')\n",
    "    #x = x+1\n",
    "    x +=1\n",
    "else:\n",
    "    print('x is not less than 5')"
   ]
  },
  {
   "cell_type": "code",
   "execution_count": 15,
   "id": "18ab4fb5",
   "metadata": {},
   "outputs": [
    {
     "name": "stdout",
     "output_type": "stream",
     "text": [
      "x is not less than 5\n"
     ]
    }
   ],
   "source": [
    "x=50\n",
    "while x<5:\n",
    "    print(f'The current value of x is {x}')\n",
    "    #x = x+1\n",
    "    x +=1\n",
    "else:\n",
    "    print('x is not less than 5')"
   ]
  },
  {
   "cell_type": "code",
   "execution_count": null,
   "id": "cc92f46a",
   "metadata": {},
   "outputs": [],
   "source": []
  }
 ],
 "metadata": {
  "kernelspec": {
   "display_name": "Python 3 (ipykernel)",
   "language": "python",
   "name": "python3"
  },
  "language_info": {
   "codemirror_mode": {
    "name": "ipython",
    "version": 3
   },
   "file_extension": ".py",
   "mimetype": "text/x-python",
   "name": "python",
   "nbconvert_exporter": "python",
   "pygments_lexer": "ipython3",
   "version": "3.10.9"
  }
 },
 "nbformat": 4,
 "nbformat_minor": 5
}
