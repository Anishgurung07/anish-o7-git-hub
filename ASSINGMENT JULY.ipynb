{
 "cells": [
  {
   "cell_type": "code",
   "execution_count": 1,
   "id": "52206931",
   "metadata": {},
   "outputs": [],
   "source": [
    "def linear_search(arr,target):\n",
    "    for i in range(len(arr)):\n",
    "        if arr[i]==target:\n",
    "            return i #return index of target\n",
    "    return - 1 # target not in list"
   ]
  },
  {
   "cell_type": "code",
   "execution_count": 4,
   "id": "a6751d28",
   "metadata": {},
   "outputs": [
    {
     "name": "stdout",
     "output_type": "stream",
     "text": [
      "The target number 8 was found at index 6.\n"
     ]
    }
   ],
   "source": [
    "def linear_search(arr, target):\n",
    "    for i in range(len(arr)):\n",
    "        if arr[i] == target:\n",
    "            return i \n",
    "    return -1  \n",
    "\n",
    "numbers = [4, 2, 9, 7, 5, 1, 8, 3, 6]\n",
    "target_number = 8\n",
    "\n",
    "index = linear_search(numbers, target_number)\n",
    "\n",
    "if index != -1:\n",
    "    print(f\"The target number {target_number} was found at index {index}.\")\n",
    "else:\n",
    "    print(\"The target number was not found in the list.\")"
   ]
  },
  {
   "cell_type": "code",
   "execution_count": 5,
   "id": "f95945b1",
   "metadata": {},
   "outputs": [],
   "source": [
    "# frist we have to select the frist element as the current element\n",
    "# Then we compare the current element with the target element and if match it will print the output\n",
    "#if the targert element not found in the next element it will print target element not found\n",
    "# if the target element found return the location\n",
    "# if the target value found amd print it the the process is end."
   ]
  },
  {
   "cell_type": "code",
   "execution_count": 10,
   "id": "ad50ad8a",
   "metadata": {},
   "outputs": [
    {
     "name": "stdout",
     "output_type": "stream",
     "text": [
      "Element found at index 7\n"
     ]
    }
   ],
   "source": [
    "def binary_search(arr, target):\n",
    "    low, high = 0, len(arr) - 1\n",
    "    while low <= high:\n",
    "        mid = (low + high) // 2\n",
    "        if arr[mid] == target:\n",
    "            return mid\n",
    "        elif arr[mid] < target:\n",
    "            low = mid + 1\n",
    "        else:\n",
    "            high = mid - 1\n",
    "    return -1\n",
    "\n",
    "my_list = [2,4,6,8,9,24,34,44,54,100]\n",
    "target_value = 44\n",
    "\n",
    "result = binary_search(my_list, target_value)\n",
    "\n",
    "if result != -1:\n",
    "    print(\"Element found at index\", result)\n",
    "else:\n",
    "    print(\"Element not found in the list.\")\n"
   ]
  },
  {
   "cell_type": "code",
   "execution_count": null,
   "id": "c31d8f33",
   "metadata": {},
   "outputs": [],
   "source": []
  }
 ],
 "metadata": {
  "kernelspec": {
   "display_name": "Python 3 (ipykernel)",
   "language": "python",
   "name": "python3"
  },
  "language_info": {
   "codemirror_mode": {
    "name": "ipython",
    "version": 3
   },
   "file_extension": ".py",
   "mimetype": "text/x-python",
   "name": "python",
   "nbconvert_exporter": "python",
   "pygments_lexer": "ipython3",
   "version": "3.10.9"
  }
 },
 "nbformat": 4,
 "nbformat_minor": 5
}
