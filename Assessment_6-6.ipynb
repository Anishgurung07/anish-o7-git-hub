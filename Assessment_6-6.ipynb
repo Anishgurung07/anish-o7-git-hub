{
 "cells": [
  {
   "cell_type": "code",
   "execution_count": 1,
   "id": "97a16872",
   "metadata": {},
   "outputs": [
    {
     "name": "stdout",
     "output_type": "stream",
     "text": [
      "9 * 1 = 9\n",
      "9 * 2 = 18\n",
      "9 * 3 = 27\n",
      "9 * 4 = 36\n",
      "9 * 5 = 45\n",
      "9 * 6 = 54\n",
      "9 * 7 = 63\n",
      "9 * 8 = 72\n",
      "9 * 9 = 81\n"
     ]
    }
   ],
   "source": [
    "num = 9\n",
    "for i in range(1, 10):\n",
    "    print(num, '*', i, '=', num*i)"
   ]
  },
  {
   "cell_type": "code",
   "execution_count": 2,
   "id": "fc01e861",
   "metadata": {},
   "outputs": [
    {
     "name": "stdout",
     "output_type": "stream",
     "text": [
      "Maximum number in the list is:  30\n",
      "Minimum number in the list is:  10\n"
     ]
    }
   ],
   "source": [
    "num = [10, 20, 30]\n",
    "max_num = max(num)\n",
    "print(\"Maximum number in the list is: \", max_num)\n",
    "min_num = min(num)\n",
    "print(\"Minimum number in the list is: \", min_num)"
   ]
  },
  {
   "cell_type": "code",
   "execution_count": 3,
   "id": "68d1da04",
   "metadata": {},
   "outputs": [
    {
     "name": "stdout",
     "output_type": "stream",
     "text": [
      "(True, 2)\n"
     ]
    }
   ],
   "source": [
    "def contains_duplicate(lst):\n",
    "    for i in lst:\n",
    "        if lst.count(i) > 1:\n",
    "            return True, i\n",
    "    return False, None\n",
    "lst =[1, 2, 3, 4, 5, 2, 7, 8, 9]\n",
    "\n",
    "print(contains_duplicate(lst))  \n",
    " "
   ]
  },
  {
   "cell_type": "code",
   "execution_count": 4,
   "id": "769e3784",
   "metadata": {},
   "outputs": [
    {
     "name": "stdout",
     "output_type": "stream",
     "text": [
      "(True, 10)\n"
     ]
    }
   ],
   "source": [
    "def contains_duplicate(lst):\n",
    "    for i in lst:\n",
    "        if lst.count(i) > 1:\n",
    "            return True, i\n",
    "    return False, None\n",
    "lst = [1, 2, 3, 4, 5, 10, 7, 8, 10]\n",
    "print(contains_duplicate(lst))  "
   ]
  },
  {
   "cell_type": "code",
   "execution_count": null,
   "id": "b91f3ff7",
   "metadata": {},
   "outputs": [],
   "source": [
    "num1 = float(input(\"enter first number\"))\n",
    "num2 = float(input(\"enter second number\"))\n",
    "print(\"press 1 for addition \\npress 2 for substraction\\npress 3 for multiplication\\npress 4 for division\")\n",
    "c=int(input(\"enter your choice 1 to 4:\"))\n",
    "if c ==1:\n",
    "    print(num1+num2)\n",
    "elif c == 2:\n",
    "     print(num1-num2)\n",
    "elif c == 3:\n",
    "    print(num1*num2)\n",
    "elif c == 4:\n",
    "    print(num1/num2)\n",
    "else:\n",
    "    print(\"invalid number\")  "
   ]
  },
  {
   "cell_type": "code",
   "execution_count": 12,
   "id": "b6e02f48",
   "metadata": {},
   "outputs": [
    {
     "name": "stdout",
     "output_type": "stream",
     "text": [
      "Random list: [9, 84, 31, 52, 86, 7, 77, 42, 100, 89]\n",
      "Minimum value: 7\n",
      "Maximum value: 100\n"
     ]
    }
   ],
   "source": [
    "import random\n",
    "\n",
    "random_list = random.sample(range(1, 101), 10)\n",
    "print(\"Random list:\", random_list)\n",
    "\n",
    "min_value = min(random_list)\n",
    "max_value = max(random_list)\n",
    "\n",
    "print(\"Minimum value:\", min_value)\n",
    "print(\"Maximum value:\", max_value)"
   ]
  },
  {
   "cell_type": "code",
   "execution_count": 1,
   "id": "adaabef5",
   "metadata": {},
   "outputs": [
    {
     "name": "stdout",
     "output_type": "stream",
     "text": [
      "18 * 1 = 18\n",
      "18 * 2 = 36\n",
      "18 * 3 = 54\n",
      "18 * 4 = 72\n",
      "18 * 5 = 90\n",
      "18 * 6 = 108\n",
      "18 * 7 = 126\n",
      "18 * 8 = 144\n",
      "18 * 9 = 162\n"
     ]
    }
   ],
   "source": [
    "num = 18\n",
    "for i in range(1,10):\n",
    "    print(num, '*', i, '=', num*i)\n",
    "    "
   ]
  },
  {
   "cell_type": "code",
   "execution_count": null,
   "id": "9a568bb1",
   "metadata": {},
   "outputs": [],
   "source": []
  }
 ],
 "metadata": {
  "kernelspec": {
   "display_name": "Python 3 (ipykernel)",
   "language": "python",
   "name": "python3"
  },
  "language_info": {
   "codemirror_mode": {
    "name": "ipython",
    "version": 3
   },
   "file_extension": ".py",
   "mimetype": "text/x-python",
   "name": "python",
   "nbconvert_exporter": "python",
   "pygments_lexer": "ipython3",
   "version": "3.10.9"
  }
 },
 "nbformat": 4,
 "nbformat_minor": 5
}
